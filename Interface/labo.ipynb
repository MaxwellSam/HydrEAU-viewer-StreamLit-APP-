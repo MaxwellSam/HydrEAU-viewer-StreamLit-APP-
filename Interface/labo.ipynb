{
 "cells": [
  {
   "cell_type": "code",
   "execution_count": 64,
   "metadata": {},
   "outputs": [],
   "source": [
    "request_infos = \"/coord?long={0}&lat={1}&dist={2}\".format(-12, 13, 14)"
   ]
  },
  {
   "cell_type": "code",
   "execution_count": 65,
   "metadata": {},
   "outputs": [
    {
     "name": "stdout",
     "output_type": "stream",
     "text": [
      "/coord?long=-12&lat=13&dist=14\n"
     ]
    }
   ],
   "source": [
    "print(request_infos)"
   ]
  },
  {
   "cell_type": "code",
   "execution_count": 72,
   "metadata": {},
   "outputs": [],
   "source": [
    "import data\n",
    "import variables as var\n",
    "import requests\n",
    "import json\n",
    "import pandas as pd"
   ]
  },
  {
   "cell_type": "code",
   "execution_count": 67,
   "metadata": {},
   "outputs": [],
   "source": [
    "# df = data.load_data_stations(-0.57918,44.837789,30)"
   ]
  },
  {
   "cell_type": "code",
   "execution_count": 68,
   "metadata": {},
   "outputs": [
    {
     "data": {
      "text/plain": [
       "'http://127.0.0.1:5000/hydro/stations'"
      ]
     },
     "execution_count": 68,
     "metadata": {},
     "output_type": "execute_result"
    }
   ],
   "source": [
    "url = var.generate_url_coord(-0.57918,44.837789,30)\n",
    "url"
   ]
  },
  {
   "cell_type": "code",
   "execution_count": 73,
   "metadata": {},
   "outputs": [],
   "source": [
    "url_API = \"http://127.0.0.1:5000/\"\n",
    "url_hydro = url_API+\"hydro\"\n",
    "url_hydro_stations = url_hydro+\"/stations\"\n",
    "url_hydro_obs_elab = url_hydro+\"/obs\"\n",
    "\n",
    "def generate_url_coord(long, lat, dist):\n",
    "    request_infos = \"/coord?long={0}&lat={1}&dist={2}\".format(long, lat, dist)\n",
    "    return url_hydro_stations+request_infos"
   ]
  },
  {
   "cell_type": "code",
   "execution_count": 74,
   "metadata": {},
   "outputs": [
    {
     "data": {
      "text/plain": [
       "'http://127.0.0.1:5000/hydro/stations/coord?long=-0.57918&lat=44.837789&dist=30'"
      ]
     },
     "execution_count": 74,
     "metadata": {},
     "output_type": "execute_result"
    }
   ],
   "source": [
    "url = generate_url_coord(-0.57918,44.837789,30)\n",
    "url"
   ]
  },
  {
   "cell_type": "code",
   "execution_count": 75,
   "metadata": {},
   "outputs": [
    {
     "ename": "AttributeError",
     "evalue": "'list' object has no attribute 'values'",
     "output_type": "error",
     "traceback": [
      "\u001b[1;31m---------------------------------------------------------------------------\u001b[0m",
      "\u001b[1;31mAttributeError\u001b[0m                            Traceback (most recent call last)",
      "\u001b[1;32mc:\\Users\\PHB994\\Documents\\LyRE_Test_Projects\\Projet_API_hubeau_v2\\interface\\labo.ipynb Cell 8'\u001b[0m in \u001b[0;36m<module>\u001b[1;34m\u001b[0m\n\u001b[0;32m      <a href='vscode-notebook-cell:/c%3A/Users/PHB994/Documents/LyRE_Test_Projects/Projet_API_hubeau_v2/interface/labo.ipynb#ch0000007?line=3'>4</a>\u001b[0m df \u001b[39m=\u001b[39m pd\u001b[39m.\u001b[39mDataFrame(my_data)\n\u001b[0;32m      <a href='vscode-notebook-cell:/c%3A/Users/PHB994/Documents/LyRE_Test_Projects/Projet_API_hubeau_v2/interface/labo.ipynb#ch0000007?line=4'>5</a>\u001b[0m df2 \u001b[39m=\u001b[39m pd\u001b[39m.\u001b[39mDataFrame\u001b[39m.\u001b[39mfrom_dict(my_data)\n\u001b[1;32m----> <a href='vscode-notebook-cell:/c%3A/Users/PHB994/Documents/LyRE_Test_Projects/Projet_API_hubeau_v2/interface/labo.ipynb#ch0000007?line=5'>6</a>\u001b[0m df3 \u001b[39m=\u001b[39m data\u001b[39m.\u001b[39;49mgenerate_dataframe(url)\n",
      "File \u001b[1;32mc:\\Users\\PHB994\\Documents\\LyRE_Test_Projects\\Projet_API_hubeau_v2\\interface\\data.py:17\u001b[0m, in \u001b[0;36mgenerate_dataframe\u001b[1;34m(url)\u001b[0m\n\u001b[0;32m     <a href='file:///c%3A/Users/PHB994/Documents/LyRE_Test_Projects/Projet_API_hubeau_v2/interface/data.py?line=14'>15</a>\u001b[0m resp \u001b[39m=\u001b[39m requests\u001b[39m.\u001b[39mget(url)\n\u001b[0;32m     <a href='file:///c%3A/Users/PHB994/Documents/LyRE_Test_Projects/Projet_API_hubeau_v2/interface/data.py?line=15'>16</a>\u001b[0m data_json \u001b[39m=\u001b[39m json\u001b[39m.\u001b[39mloads(resp\u001b[39m.\u001b[39mtext)\n\u001b[1;32m---> <a href='file:///c%3A/Users/PHB994/Documents/LyRE_Test_Projects/Projet_API_hubeau_v2/interface/data.py?line=16'>17</a>\u001b[0m \u001b[39mreturn\u001b[39;00m pd\u001b[39m.\u001b[39;49mDataFrame\u001b[39m.\u001b[39;49mfrom_dict(data_json[\u001b[39m\"\u001b[39;49m\u001b[39mdata\u001b[39;49m\u001b[39m\"\u001b[39;49m], orient\u001b[39m=\u001b[39;49m\u001b[39m\"\u001b[39;49m\u001b[39mindex\u001b[39;49m\u001b[39m\"\u001b[39;49m)\n",
      "File \u001b[1;32m~\\AppData\\Local\\Programs\\Python\\Python310\\lib\\site-packages\\pandas\\core\\frame.py:1667\u001b[0m, in \u001b[0;36mDataFrame.from_dict\u001b[1;34m(cls, data, orient, dtype, columns)\u001b[0m\n\u001b[0;32m   <a href='file:///~/AppData/Local/Programs/Python/Python310/lib/site-packages/pandas/core/frame.py?line=1663'>1664</a>\u001b[0m \u001b[39mif\u001b[39;00m orient \u001b[39m==\u001b[39m \u001b[39m\"\u001b[39m\u001b[39mindex\u001b[39m\u001b[39m\"\u001b[39m:\n\u001b[0;32m   <a href='file:///~/AppData/Local/Programs/Python/Python310/lib/site-packages/pandas/core/frame.py?line=1664'>1665</a>\u001b[0m     \u001b[39mif\u001b[39;00m \u001b[39mlen\u001b[39m(data) \u001b[39m>\u001b[39m \u001b[39m0\u001b[39m:\n\u001b[0;32m   <a href='file:///~/AppData/Local/Programs/Python/Python310/lib/site-packages/pandas/core/frame.py?line=1665'>1666</a>\u001b[0m         \u001b[39m# TODO speed up Series case\u001b[39;00m\n\u001b[1;32m-> <a href='file:///~/AppData/Local/Programs/Python/Python310/lib/site-packages/pandas/core/frame.py?line=1666'>1667</a>\u001b[0m         \u001b[39mif\u001b[39;00m \u001b[39misinstance\u001b[39m(\u001b[39mlist\u001b[39m(data\u001b[39m.\u001b[39;49mvalues())[\u001b[39m0\u001b[39m], (Series, \u001b[39mdict\u001b[39m)):\n\u001b[0;32m   <a href='file:///~/AppData/Local/Programs/Python/Python310/lib/site-packages/pandas/core/frame.py?line=1667'>1668</a>\u001b[0m             data \u001b[39m=\u001b[39m _from_nested_dict(data)\n\u001b[0;32m   <a href='file:///~/AppData/Local/Programs/Python/Python310/lib/site-packages/pandas/core/frame.py?line=1668'>1669</a>\u001b[0m         \u001b[39melse\u001b[39;00m:\n",
      "\u001b[1;31mAttributeError\u001b[0m: 'list' object has no attribute 'values'"
     ]
    }
   ],
   "source": [
    "resp = requests.get(url)\n",
    "json_file = json.loads(resp.text)\n",
    "my_data = json_file[\"data\"]\n",
    "df = pd.DataFrame(my_data)\n",
    "df2 = pd.DataFrame.from_dict(my_data)\n",
    "df3 = data.generate_dataframe(url)"
   ]
  },
  {
   "cell_type": "code",
   "execution_count": 76,
   "metadata": {},
   "outputs": [
    {
     "data": {
      "text/html": [
       "<div>\n",
       "<style scoped>\n",
       "    .dataframe tbody tr th:only-of-type {\n",
       "        vertical-align: middle;\n",
       "    }\n",
       "\n",
       "    .dataframe tbody tr th {\n",
       "        vertical-align: top;\n",
       "    }\n",
       "\n",
       "    .dataframe thead th {\n",
       "        text-align: right;\n",
       "    }\n",
       "</style>\n",
       "<table border=\"1\" class=\"dataframe\">\n",
       "  <thead>\n",
       "    <tr style=\"text-align: right;\">\n",
       "      <th></th>\n",
       "      <th>code_station</th>\n",
       "      <th>date_fermeture_station</th>\n",
       "      <th>date_ouverture_station</th>\n",
       "      <th>latitude_station</th>\n",
       "      <th>libelle_region</th>\n",
       "      <th>longitude_station</th>\n",
       "    </tr>\n",
       "  </thead>\n",
       "  <tbody>\n",
       "    <tr>\n",
       "      <th>0</th>\n",
       "      <td>O965000101</td>\n",
       "      <td>None</td>\n",
       "      <td>2015-12-11T00:00:00Z</td>\n",
       "      <td>44.670791</td>\n",
       "      <td>NOUVELLE-AQUITAINE</td>\n",
       "      <td>-0.482639</td>\n",
       "    </tr>\n",
       "    <tr>\n",
       "      <th>1</th>\n",
       "      <td>O972001001</td>\n",
       "      <td>None</td>\n",
       "      <td>1990-01-01T00:00:00Z</td>\n",
       "      <td>44.859972</td>\n",
       "      <td>NOUVELLE-AQUITAINE</td>\n",
       "      <td>-0.552718</td>\n",
       "    </tr>\n",
       "    <tr>\n",
       "      <th>2</th>\n",
       "      <td>O972001002</td>\n",
       "      <td>None</td>\n",
       "      <td>1990-01-01T00:00:00Z</td>\n",
       "      <td>44.859508</td>\n",
       "      <td>NOUVELLE-AQUITAINE</td>\n",
       "      <td>-0.552562</td>\n",
       "    </tr>\n",
       "    <tr>\n",
       "      <th>3</th>\n",
       "      <td>O972001101</td>\n",
       "      <td>None</td>\n",
       "      <td>2000-01-01T00:00:00Z</td>\n",
       "      <td>44.904184</td>\n",
       "      <td>NOUVELLE-AQUITAINE</td>\n",
       "      <td>-0.537295</td>\n",
       "    </tr>\n",
       "    <tr>\n",
       "      <th>4</th>\n",
       "      <td>O978531001</td>\n",
       "      <td>None</td>\n",
       "      <td>1972-11-14T00:00:00Z</td>\n",
       "      <td>44.956972</td>\n",
       "      <td>NOUVELLE-AQUITAINE</td>\n",
       "      <td>-0.686723</td>\n",
       "    </tr>\n",
       "    <tr>\n",
       "      <th>5</th>\n",
       "      <td>O979000101</td>\n",
       "      <td>None</td>\n",
       "      <td>2000-01-01T00:00:00Z</td>\n",
       "      <td>45.003125</td>\n",
       "      <td>NOUVELLE-AQUITAINE</td>\n",
       "      <td>-0.559630</td>\n",
       "    </tr>\n",
       "    <tr>\n",
       "      <th>6</th>\n",
       "      <td>P577001001</td>\n",
       "      <td>None</td>\n",
       "      <td>2006-08-25T00:00:00Z</td>\n",
       "      <td>44.912917</td>\n",
       "      <td>NOUVELLE-AQUITAINE</td>\n",
       "      <td>-0.248825</td>\n",
       "    </tr>\n",
       "    <tr>\n",
       "      <th>7</th>\n",
       "      <td>P916000101</td>\n",
       "      <td>None</td>\n",
       "      <td>2000-01-01T00:00:00Z</td>\n",
       "      <td>45.040503</td>\n",
       "      <td>NOUVELLE-AQUITAINE</td>\n",
       "      <td>-0.603554</td>\n",
       "    </tr>\n",
       "    <tr>\n",
       "      <th>8</th>\n",
       "      <td>P927401001</td>\n",
       "      <td>None</td>\n",
       "      <td>2002-02-08T00:00:00Z</td>\n",
       "      <td>45.013668</td>\n",
       "      <td>NOUVELLE-AQUITAINE</td>\n",
       "      <td>-0.291287</td>\n",
       "    </tr>\n",
       "  </tbody>\n",
       "</table>\n",
       "</div>"
      ],
      "text/plain": [
       "  code_station date_fermeture_station date_ouverture_station  \\\n",
       "0   O965000101                   None   2015-12-11T00:00:00Z   \n",
       "1   O972001001                   None   1990-01-01T00:00:00Z   \n",
       "2   O972001002                   None   1990-01-01T00:00:00Z   \n",
       "3   O972001101                   None   2000-01-01T00:00:00Z   \n",
       "4   O978531001                   None   1972-11-14T00:00:00Z   \n",
       "5   O979000101                   None   2000-01-01T00:00:00Z   \n",
       "6   P577001001                   None   2006-08-25T00:00:00Z   \n",
       "7   P916000101                   None   2000-01-01T00:00:00Z   \n",
       "8   P927401001                   None   2002-02-08T00:00:00Z   \n",
       "\n",
       "   latitude_station      libelle_region  longitude_station  \n",
       "0         44.670791  NOUVELLE-AQUITAINE          -0.482639  \n",
       "1         44.859972  NOUVELLE-AQUITAINE          -0.552718  \n",
       "2         44.859508  NOUVELLE-AQUITAINE          -0.552562  \n",
       "3         44.904184  NOUVELLE-AQUITAINE          -0.537295  \n",
       "4         44.956972  NOUVELLE-AQUITAINE          -0.686723  \n",
       "5         45.003125  NOUVELLE-AQUITAINE          -0.559630  \n",
       "6         44.912917  NOUVELLE-AQUITAINE          -0.248825  \n",
       "7         45.040503  NOUVELLE-AQUITAINE          -0.603554  \n",
       "8         45.013668  NOUVELLE-AQUITAINE          -0.291287  "
      ]
     },
     "execution_count": 76,
     "metadata": {},
     "output_type": "execute_result"
    }
   ],
   "source": [
    "df"
   ]
  },
  {
   "cell_type": "code",
   "execution_count": null,
   "metadata": {},
   "outputs": [
    {
     "data": {
      "text/html": [
       "<div>\n",
       "<style scoped>\n",
       "    .dataframe tbody tr th:only-of-type {\n",
       "        vertical-align: middle;\n",
       "    }\n",
       "\n",
       "    .dataframe tbody tr th {\n",
       "        vertical-align: top;\n",
       "    }\n",
       "\n",
       "    .dataframe thead th {\n",
       "        text-align: right;\n",
       "    }\n",
       "</style>\n",
       "<table border=\"1\" class=\"dataframe\">\n",
       "  <thead>\n",
       "    <tr style=\"text-align: right;\">\n",
       "      <th></th>\n",
       "      <th>code_station</th>\n",
       "      <th>date_fermeture_station</th>\n",
       "      <th>date_ouverture_station</th>\n",
       "      <th>latitude_station</th>\n",
       "      <th>libelle_region</th>\n",
       "      <th>longitude_station</th>\n",
       "    </tr>\n",
       "  </thead>\n",
       "  <tbody>\n",
       "    <tr>\n",
       "      <th>0</th>\n",
       "      <td>O965000101</td>\n",
       "      <td>None</td>\n",
       "      <td>2015-12-11T00:00:00Z</td>\n",
       "      <td>44.670791</td>\n",
       "      <td>NOUVELLE-AQUITAINE</td>\n",
       "      <td>-0.482639</td>\n",
       "    </tr>\n",
       "    <tr>\n",
       "      <th>1</th>\n",
       "      <td>O972001001</td>\n",
       "      <td>None</td>\n",
       "      <td>1990-01-01T00:00:00Z</td>\n",
       "      <td>44.859972</td>\n",
       "      <td>NOUVELLE-AQUITAINE</td>\n",
       "      <td>-0.552718</td>\n",
       "    </tr>\n",
       "    <tr>\n",
       "      <th>2</th>\n",
       "      <td>O972001002</td>\n",
       "      <td>None</td>\n",
       "      <td>1990-01-01T00:00:00Z</td>\n",
       "      <td>44.859508</td>\n",
       "      <td>NOUVELLE-AQUITAINE</td>\n",
       "      <td>-0.552562</td>\n",
       "    </tr>\n",
       "    <tr>\n",
       "      <th>3</th>\n",
       "      <td>O972001101</td>\n",
       "      <td>None</td>\n",
       "      <td>2000-01-01T00:00:00Z</td>\n",
       "      <td>44.904184</td>\n",
       "      <td>NOUVELLE-AQUITAINE</td>\n",
       "      <td>-0.537295</td>\n",
       "    </tr>\n",
       "    <tr>\n",
       "      <th>4</th>\n",
       "      <td>O978531001</td>\n",
       "      <td>None</td>\n",
       "      <td>1972-11-14T00:00:00Z</td>\n",
       "      <td>44.956972</td>\n",
       "      <td>NOUVELLE-AQUITAINE</td>\n",
       "      <td>-0.686723</td>\n",
       "    </tr>\n",
       "    <tr>\n",
       "      <th>5</th>\n",
       "      <td>O979000101</td>\n",
       "      <td>None</td>\n",
       "      <td>2000-01-01T00:00:00Z</td>\n",
       "      <td>45.003125</td>\n",
       "      <td>NOUVELLE-AQUITAINE</td>\n",
       "      <td>-0.559630</td>\n",
       "    </tr>\n",
       "    <tr>\n",
       "      <th>6</th>\n",
       "      <td>P577001001</td>\n",
       "      <td>None</td>\n",
       "      <td>2006-08-25T00:00:00Z</td>\n",
       "      <td>44.912917</td>\n",
       "      <td>NOUVELLE-AQUITAINE</td>\n",
       "      <td>-0.248825</td>\n",
       "    </tr>\n",
       "    <tr>\n",
       "      <th>7</th>\n",
       "      <td>P916000101</td>\n",
       "      <td>None</td>\n",
       "      <td>2000-01-01T00:00:00Z</td>\n",
       "      <td>45.040503</td>\n",
       "      <td>NOUVELLE-AQUITAINE</td>\n",
       "      <td>-0.603554</td>\n",
       "    </tr>\n",
       "    <tr>\n",
       "      <th>8</th>\n",
       "      <td>P927401001</td>\n",
       "      <td>None</td>\n",
       "      <td>2002-02-08T00:00:00Z</td>\n",
       "      <td>45.013668</td>\n",
       "      <td>NOUVELLE-AQUITAINE</td>\n",
       "      <td>-0.291287</td>\n",
       "    </tr>\n",
       "  </tbody>\n",
       "</table>\n",
       "</div>"
      ],
      "text/plain": [
       "  code_station date_fermeture_station date_ouverture_station  \\\n",
       "0   O965000101                   None   2015-12-11T00:00:00Z   \n",
       "1   O972001001                   None   1990-01-01T00:00:00Z   \n",
       "2   O972001002                   None   1990-01-01T00:00:00Z   \n",
       "3   O972001101                   None   2000-01-01T00:00:00Z   \n",
       "4   O978531001                   None   1972-11-14T00:00:00Z   \n",
       "5   O979000101                   None   2000-01-01T00:00:00Z   \n",
       "6   P577001001                   None   2006-08-25T00:00:00Z   \n",
       "7   P916000101                   None   2000-01-01T00:00:00Z   \n",
       "8   P927401001                   None   2002-02-08T00:00:00Z   \n",
       "\n",
       "   latitude_station      libelle_region  longitude_station  \n",
       "0         44.670791  NOUVELLE-AQUITAINE          -0.482639  \n",
       "1         44.859972  NOUVELLE-AQUITAINE          -0.552718  \n",
       "2         44.859508  NOUVELLE-AQUITAINE          -0.552562  \n",
       "3         44.904184  NOUVELLE-AQUITAINE          -0.537295  \n",
       "4         44.956972  NOUVELLE-AQUITAINE          -0.686723  \n",
       "5         45.003125  NOUVELLE-AQUITAINE          -0.559630  \n",
       "6         44.912917  NOUVELLE-AQUITAINE          -0.248825  \n",
       "7         45.040503  NOUVELLE-AQUITAINE          -0.603554  \n",
       "8         45.013668  NOUVELLE-AQUITAINE          -0.291287  "
      ]
     },
     "execution_count": 54,
     "metadata": {},
     "output_type": "execute_result"
    }
   ],
   "source": [
    "df2"
   ]
  },
  {
   "cell_type": "code",
   "execution_count": 80,
   "metadata": {},
   "outputs": [],
   "source": [
    "def load_data_stations(long, lat, dist):\n",
    "    if long == 0 or lat == 0 or dist == 0:\n",
    "        return False\n",
    "    else:\n",
    "        return True\n",
    "    "
   ]
  },
  {
   "cell_type": "code",
   "execution_count": 81,
   "metadata": {},
   "outputs": [],
   "source": [
    "rep = load_data_stations(-0.57918,44.837789,30)"
   ]
  },
  {
   "cell_type": "code",
   "execution_count": 82,
   "metadata": {},
   "outputs": [
    {
     "data": {
      "text/plain": [
       "True"
      ]
     },
     "execution_count": 82,
     "metadata": {},
     "output_type": "execute_result"
    }
   ],
   "source": [
    "rep"
   ]
  },
  {
   "cell_type": "code",
   "execution_count": 1,
   "metadata": {},
   "outputs": [],
   "source": [
    "import pandas as pd\n",
    "data = {'Name':['John', 'Doe', 'Paul'], \n",
    "        'age':[22, 31, 15]} \n",
    "df = pd.DataFrame(data)\n",
    "df.rename(columns = {'Name' : 'First Name', 'age' : 'Age'}, inplace = True)"
   ]
  },
  {
   "cell_type": "code",
   "execution_count": 2,
   "metadata": {},
   "outputs": [
    {
     "data": {
      "text/html": [
       "<div>\n",
       "<style scoped>\n",
       "    .dataframe tbody tr th:only-of-type {\n",
       "        vertical-align: middle;\n",
       "    }\n",
       "\n",
       "    .dataframe tbody tr th {\n",
       "        vertical-align: top;\n",
       "    }\n",
       "\n",
       "    .dataframe thead th {\n",
       "        text-align: right;\n",
       "    }\n",
       "</style>\n",
       "<table border=\"1\" class=\"dataframe\">\n",
       "  <thead>\n",
       "    <tr style=\"text-align: right;\">\n",
       "      <th></th>\n",
       "      <th>First Name</th>\n",
       "      <th>Age</th>\n",
       "    </tr>\n",
       "  </thead>\n",
       "  <tbody>\n",
       "    <tr>\n",
       "      <th>0</th>\n",
       "      <td>John</td>\n",
       "      <td>22</td>\n",
       "    </tr>\n",
       "    <tr>\n",
       "      <th>1</th>\n",
       "      <td>Doe</td>\n",
       "      <td>31</td>\n",
       "    </tr>\n",
       "    <tr>\n",
       "      <th>2</th>\n",
       "      <td>Paul</td>\n",
       "      <td>15</td>\n",
       "    </tr>\n",
       "  </tbody>\n",
       "</table>\n",
       "</div>"
      ],
      "text/plain": [
       "  First Name  Age\n",
       "0       John   22\n",
       "1        Doe   31\n",
       "2       Paul   15"
      ]
     },
     "execution_count": 2,
     "metadata": {},
     "output_type": "execute_result"
    }
   ],
   "source": [
    "df\n"
   ]
  },
  {
   "cell_type": "code",
   "execution_count": 1,
   "metadata": {},
   "outputs": [],
   "source": [
    "var = \"str\""
   ]
  },
  {
   "cell_type": "code",
   "execution_count": 3,
   "metadata": {},
   "outputs": [
    {
     "data": {
      "text/plain": [
       "['str']"
      ]
     },
     "execution_count": 3,
     "metadata": {},
     "output_type": "execute_result"
    }
   ],
   "source": [
    "list = [var]\n",
    "list"
   ]
  },
  {
   "cell_type": "code",
   "execution_count": 4,
   "metadata": {},
   "outputs": [
    {
     "data": {
      "text/plain": [
       "'str'"
      ]
     },
     "execution_count": 4,
     "metadata": {},
     "output_type": "execute_result"
    }
   ],
   "source": [
    "\",\".join(list)"
   ]
  },
  {
   "cell_type": "code",
   "execution_count": 5,
   "metadata": {},
   "outputs": [
    {
     "data": {
      "text/plain": [
       "'s,t,r'"
      ]
     },
     "execution_count": 5,
     "metadata": {},
     "output_type": "execute_result"
    }
   ],
   "source": [
    "\",\".join(var)"
   ]
  },
  {
   "cell_type": "code",
   "execution_count": null,
   "metadata": {},
   "outputs": [],
   "source": []
  }
 ],
 "metadata": {
  "interpreter": {
   "hash": "8ea48d29d19dcaf7177aa97b4cbc49590d7d1e1940c26722e4c4111f58362753"
  },
  "kernelspec": {
   "display_name": "Python 3.10.2 64-bit",
   "language": "python",
   "name": "python3"
  },
  "language_info": {
   "codemirror_mode": {
    "name": "ipython",
    "version": 3
   },
   "file_extension": ".py",
   "mimetype": "text/x-python",
   "name": "python",
   "nbconvert_exporter": "python",
   "pygments_lexer": "ipython3",
   "version": "3.10.2"
  },
  "orig_nbformat": 4
 },
 "nbformat": 4,
 "nbformat_minor": 2
}
